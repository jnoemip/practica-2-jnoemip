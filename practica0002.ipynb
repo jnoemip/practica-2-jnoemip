{
 "cells": [
  {
   "cell_type": "code",
   "execution_count": 226,
   "id": "28845814",
   "metadata": {},
   "outputs": [],
   "source": [
    "# Cargar librerías\n",
    "import pandas as pd\n",
    "import numpy as np\n",
    "from sklearn.linear_model import LogisticRegression\n",
    "from sklearn.preprocessing import StandardScaler\n",
    "from sklearn.pipeline import Pipeline\n",
    "from sklearn.model_selection import train_test_split\n",
    "from sklearn.metrics import accuracy_score, precision_score\n",
    "import mlflow\n",
    "import mlflow.sklearn\n"
   ]
  },
  {
   "cell_type": "code",
   "execution_count": 227,
   "id": "5daaa60a-2ab7-4464-8418-5e302b719ae4",
   "metadata": {},
   "outputs": [],
   "source": [
    "if mlflow.active_run():\n",
    "    mlflow.end_run()"
   ]
  },
  {
   "cell_type": "code",
   "execution_count": 228,
   "id": "da619e05",
   "metadata": {},
   "outputs": [],
   "source": [
    "# Leer datos\n",
    "df = pd.read_csv(\"data/diabetes.csv\")\n",
    "\n"
   ]
  },
  {
   "cell_type": "code",
   "execution_count": 229,
   "id": "f287d4ff-786f-400c-acbd-06af393ea280",
   "metadata": {},
   "outputs": [
    {
     "data": {
      "text/plain": [
       "Pregnancies                 111\n",
       "Glucose                       5\n",
       "BloodPressure                35\n",
       "SkinThickness               227\n",
       "Insulin                     374\n",
       "BMI                          11\n",
       "DiabetesPedigreeFunction      0\n",
       "Age                           0\n",
       "Outcome                     500\n",
       "dtype: int64"
      ]
     },
     "execution_count": 229,
     "metadata": {},
     "output_type": "execute_result"
    }
   ],
   "source": [
    "# identifica las columnas que tiene valores 0\n",
    "(df==0).sum()"
   ]
  },
  {
   "cell_type": "code",
   "execution_count": 230,
   "id": "9d063202-3384-456c-8bbf-924911f25144",
   "metadata": {},
   "outputs": [
    {
     "name": "stdout",
     "output_type": "stream",
     "text": [
      "     Pregnancies  Glucose  BloodPressure  SkinThickness  Insulin   BMI  \\\n",
      "0              6    148.0           72.0           35.0    105.0  33.6   \n",
      "1              1     85.0           66.0           29.0    105.0  26.6   \n",
      "2              8    183.0           64.0           32.0    105.0  23.3   \n",
      "3              1     89.0           66.0           23.0     94.0  28.1   \n",
      "4              0    137.0           40.0           35.0    168.0  43.1   \n",
      "..           ...      ...            ...            ...      ...   ...   \n",
      "763           10    101.0           76.0           48.0    180.0  32.9   \n",
      "764            2    122.0           70.0           27.0    105.0  36.8   \n",
      "765            5    121.0           72.0           23.0    112.0  26.2   \n",
      "766            1    126.0           60.0           32.0    105.0  30.1   \n",
      "767            1     93.0           70.0           31.0    105.0  30.4   \n",
      "\n",
      "     DiabetesPedigreeFunction  Age  Outcome  \n",
      "0                       0.627   50        1  \n",
      "1                       0.351   31        0  \n",
      "2                       0.672   32        1  \n",
      "3                       0.167   21        0  \n",
      "4                       2.288   33        1  \n",
      "..                        ...  ...      ...  \n",
      "763                     0.171   63        0  \n",
      "764                     0.340   27        0  \n",
      "765                     0.245   30        0  \n",
      "766                     0.349   47        1  \n",
      "767                     0.315   23        0  \n",
      "\n",
      "[768 rows x 9 columns]\n",
      "105.0\n"
     ]
    }
   ],
   "source": [
    "# Reemplazar ceros en columnas específicas por NaN\n",
    "cols_to_clean = ['Glucose', 'BloodPressure', 'SkinThickness', 'Insulin']\n",
    "# No se consideran algunas, por ejemplo Pregnancies (por qué si es posible que se tengan cero embarazos)\n",
    "\n",
    "# Reemplazar ceros por NaN para poder tratarlos como datos faltantes\n",
    "for col in cols_to_clean:\n",
    "    df[col] = df[col].replace(0, np.nan)\n",
    "\n",
    "# Reemplazar NaN con la moda (valor más frecuente) de cada columna\n",
    "for col in cols_to_clean:\n",
    "    moda = df[col].mode()[0]# buscar el método más común para determinar la moda de una columna\n",
    "    df[col] = df[col].fillna(moda)\n",
    "print (df)\n",
    "print (moda)"
   ]
  },
  {
   "cell_type": "code",
   "execution_count": 231,
   "id": "4be9af71",
   "metadata": {},
   "outputs": [],
   "source": [
    "# Separar datos\n",
    "X = df.drop(\"Outcome\", axis=1)\n",
    "y = df[\"Outcome\"]\n",
    "\n",
    "X_train, X_test, y_train, y_test = train_test_split(X, y, test_size=0.2, random_state=42)\n"
   ]
  },
  {
   "cell_type": "code",
   "execution_count": 232,
   "id": "ee6500fe-a589-4021-a1b0-68d0f1f742c7",
   "metadata": {},
   "outputs": [
    {
     "data": {
      "text/plain": [
       "<Experiment: artifact_location='mlflow-artifacts:/0', creation_time=1747445244365, experiment_id='0', last_update_time=1747445753960, lifecycle_stage='active', name='ClasificadorDemoDiabetes', tags={}>"
      ]
     },
     "execution_count": 232,
     "metadata": {},
     "output_type": "execute_result"
    }
   ],
   "source": [
    "# agregar el traking uri de mlflow\n",
    "mlflow.set_tracking_uri(\"http://127.0.0.1:9090\")\n",
    "\n",
    "# agregar set_experiment con nombre: ClasificadorDemoDiabetes\n",
    "mlflow.set_experiment(experiment_name=\"ClasificadorDemoDiabetes\")"
   ]
  },
  {
   "cell_type": "code",
   "execution_count": 233,
   "id": "c5784cd6",
   "metadata": {},
   "outputs": [
    {
     "name": "stdout",
     "output_type": "stream",
     "text": [
      "        run_id  logreg_C  logreg_max_iter     solver penalty\n",
      "0  practica_01      0.01              400  liblinear      l2\n",
      "1  practica_02      1.12              300      lbfgs      l2\n",
      "2  practica_03      2.23              500  liblinear      l2\n",
      "3  practica_04      3.34              200  liblinear      l2\n",
      "4  practica_05      4.45              300  liblinear      l2\n",
      "5  practica_06      5.56              500      lbfgs      l2\n",
      "6  practica_07      6.67              300      lbfgs      l2\n",
      "7  practica_08      7.78              500      lbfgs      l2\n",
      "8  practica_09      8.89              400      lbfgs      l2\n",
      "9  practica_10     10.00              200      lbfgs      l2\n"
     ]
    },
    {
     "name": "stderr",
     "output_type": "stream",
     "text": [
      "C:\\Users\\Usuario\\AppData\\Local\\Programs\\Python\\Python311\\Lib\\site-packages\\_distutils_hack\\__init__.py:18: UserWarning: Distutils was imported before Setuptools, but importing Setuptools also replaces the `distutils` module in `sys.modules`. This may lead to undesirable behaviors or errors. To avoid these issues, avoid using distutils directly, ensure that setuptools is installed in the traditional way (e.g. not an editable install), and/or make sure that setuptools is always imported before distutils.\n",
      "  warnings.warn(\n",
      "C:\\Users\\Usuario\\AppData\\Local\\Programs\\Python\\Python311\\Lib\\site-packages\\_distutils_hack\\__init__.py:33: UserWarning: Setuptools is replacing distutils.\n",
      "  warnings.warn(\"Setuptools is replacing distutils.\")\n",
      "Registered model 'modelo_pipeline' already exists. Creating a new version of this model...\n",
      "2025/05/16 23:22:07 INFO mlflow.store.model_registry.abstract_store: Waiting up to 300 seconds for model version to finish creation. Model name: modelo_pipeline, version 3\n"
     ]
    },
    {
     "name": "stdout",
     "output_type": "stream",
     "text": [
      " Modelo registrado en MLflow\n",
      "\n",
      "Modelo registrado - Parámetros: C=0.01, max_iter=400, solver=liblinear, penalty=l2\n",
      "Accuracy: 0.7208 | Precision: 0.6034\n"
     ]
    },
    {
     "name": "stderr",
     "output_type": "stream",
     "text": [
      "Created version '3' of model 'modelo_pipeline'.\n"
     ]
    },
    {
     "ename": "Exception",
     "evalue": "Run with UUID 77f38fe9388c4391b6008b3fe0438ee5 is already active. To start a new run, first end the current run with mlflow.end_run(). To start a nested run, call start_run with nested=True",
     "output_type": "error",
     "traceback": [
      "\u001b[1;31m----------------------------------------------------------------------\u001b[0m",
      "\u001b[1;31mException\u001b[0m                            Traceback (most recent call last)",
      "Cell \u001b[1;32mIn[233], line 14\u001b[0m\n\u001b[0;32m      8\u001b[0m \u001b[38;5;66;03m# para los parámtros C, max_iter, solver y penalty de LogisticRegresion\u001b[39;00m\n\u001b[0;32m      9\u001b[0m \u001b[38;5;66;03m# se debe genear un run por cada fila del archivo, usando sus parámetros\u001b[39;00m\n\u001b[0;32m     10\u001b[0m \u001b[38;5;66;03m# Analizar que usar\u001b[39;00m\n\u001b[0;32m     11\u001b[0m \u001b[38;5;66;03m# agregar la línea del start_run\u001b[39;00m\n\u001b[0;32m     13\u001b[0m \u001b[38;5;28;01mfor\u001b[39;00m _, row \u001b[38;5;129;01min\u001b[39;00m df_par\u001b[38;5;241m.\u001b[39miterrows():\n\u001b[1;32m---> 14\u001b[0m     \u001b[38;5;28;01mwith\u001b[39;00m \u001b[43mmlflow\u001b[49m\u001b[38;5;241;43m.\u001b[39;49m\u001b[43mstart_run\u001b[49m\u001b[43m(\u001b[49m\u001b[43mrun_name\u001b[49m\u001b[38;5;241;43m=\u001b[39;49m\u001b[38;5;124;43m\"\u001b[39;49m\u001b[38;5;124;43mCLASSn\u001b[39;49m\u001b[38;5;124;43m\"\u001b[39;49m\u001b[43m)\u001b[49m:  \n\u001b[0;32m     15\u001b[0m         C \u001b[38;5;241m=\u001b[39m row[\u001b[38;5;124m'\u001b[39m\u001b[38;5;124mlogreg_C\u001b[39m\u001b[38;5;124m'\u001b[39m]\n\u001b[0;32m     16\u001b[0m         max_iter \u001b[38;5;241m=\u001b[39m row[\u001b[38;5;124m'\u001b[39m\u001b[38;5;124mlogreg_max_iter\u001b[39m\u001b[38;5;124m'\u001b[39m]\n",
      "File \u001b[1;32m~\\AppData\\Local\\Programs\\Python\\Python311\\Lib\\site-packages\\mlflow\\tracking\\fluent.py:306\u001b[0m, in \u001b[0;36mstart_run\u001b[1;34m(run_id, experiment_id, run_name, nested, tags, description, log_system_metrics)\u001b[0m\n\u001b[0;32m    304\u001b[0m experiment_id \u001b[38;5;241m=\u001b[39m \u001b[38;5;28mstr\u001b[39m(experiment_id) \u001b[38;5;28;01mif\u001b[39;00m \u001b[38;5;28misinstance\u001b[39m(experiment_id, \u001b[38;5;28mint\u001b[39m) \u001b[38;5;28;01melse\u001b[39;00m experiment_id\n\u001b[0;32m    305\u001b[0m \u001b[38;5;28;01mif\u001b[39;00m \u001b[38;5;28mlen\u001b[39m(_active_run_stack) \u001b[38;5;241m>\u001b[39m \u001b[38;5;241m0\u001b[39m \u001b[38;5;129;01mand\u001b[39;00m \u001b[38;5;129;01mnot\u001b[39;00m nested:\n\u001b[1;32m--> 306\u001b[0m     \u001b[38;5;28;01mraise\u001b[39;00m \u001b[38;5;167;01mException\u001b[39;00m(\n\u001b[0;32m    307\u001b[0m         (\n\u001b[0;32m    308\u001b[0m             \u001b[38;5;124m\"\u001b[39m\u001b[38;5;124mRun with UUID \u001b[39m\u001b[38;5;132;01m{}\u001b[39;00m\u001b[38;5;124m is already active. To start a new run, first end the \u001b[39m\u001b[38;5;124m\"\u001b[39m\n\u001b[0;32m    309\u001b[0m             \u001b[38;5;241m+\u001b[39m \u001b[38;5;124m\"\u001b[39m\u001b[38;5;124mcurrent run with mlflow.end_run(). To start a nested \u001b[39m\u001b[38;5;124m\"\u001b[39m\n\u001b[0;32m    310\u001b[0m             \u001b[38;5;241m+\u001b[39m \u001b[38;5;124m\"\u001b[39m\u001b[38;5;124mrun, call start_run with nested=True\u001b[39m\u001b[38;5;124m\"\u001b[39m\n\u001b[0;32m    311\u001b[0m         )\u001b[38;5;241m.\u001b[39mformat(_active_run_stack[\u001b[38;5;241m0\u001b[39m]\u001b[38;5;241m.\u001b[39minfo\u001b[38;5;241m.\u001b[39mrun_id)\n\u001b[0;32m    312\u001b[0m     )\n\u001b[0;32m    313\u001b[0m client \u001b[38;5;241m=\u001b[39m MlflowClient()\n\u001b[0;32m    314\u001b[0m \u001b[38;5;28;01mif\u001b[39;00m run_id:\n",
      "\u001b[1;31mException\u001b[0m: Run with UUID 77f38fe9388c4391b6008b3fe0438ee5 is already active. To start a new run, first end the current run with mlflow.end_run(). To start a nested run, call start_run with nested=True"
     ]
    }
   ],
   "source": [
    "# Entrenamiento y registro con MLflow\n",
    "C = 0.01\n",
    "max_iter = 10\n",
    "# usar los parámetros del archivo logreg_variaciones_educativas.csv\n",
    "df_par= pd.read_csv('data/logreg_variaciones_educativas.csv')\n",
    "print(df_par)\n",
    "df_par.dtypes\n",
    "# para los parámtros C, max_iter, solver y penalty de LogisticRegresion\n",
    "# se debe genear un run por cada fila del archivo, usando sus parámetros\n",
    "# Analizar que usar\n",
    "# agregar la línea del start_run\n",
    "\n",
    "for _, row in df_par.iterrows():\n",
    "    with mlflow.start_run(run_name=\"CLASSn\"):  \n",
    "        C = row['logreg_C']\n",
    "        max_iter = row['logreg_max_iter']\n",
    "        solver = row['solver']\n",
    "        penalty = row['penalty']        \n",
    "    # El pipeline usar StandarScaler para que todos los valore numéricos estén en la misma escala\n",
    "    # no cambiar dicha línea\n",
    "    # LogisticRegresion deben variar sus parámetros en cada iteración.\n",
    "        pipeline = Pipeline([\n",
    "            (\"scaler\", StandardScaler()),\n",
    "            (\"clf\", LogisticRegression(\n",
    "                C=C,\n",
    "                max_iter=max_iter,\n",
    "                solver=solver,\n",
    "                penalty=penalty\n",
    "            ))\n",
    "        ])\n",
    "    \n",
    "    # Entrenar y evaluar\n",
    "    pipeline.fit(X_train, y_train)\n",
    "    y_pred = pipeline.predict(X_test)\n",
    "\n",
    "    acc = accuracy_score(y_test, y_pred)\n",
    "    prec = precision_score(y_test, y_pred)\n",
    "\n",
    "    # recuerde que log_param y log_metric debe ir guardando los valores\n",
    "    # dependiendo del run correspondiente de cada fila\n",
    "    mlflow.log_param(\"logreg_C\", C)\n",
    "    mlflow.log_param(\"logreg_max_iter\", max_iter)\n",
    "    mlflow.log_param(\"solver\", solver)\n",
    "    mlflow.log_param(\"penalty\", penalty)\n",
    "    \n",
    "    mlflow.log_metric(\"accuracy\", acc)\n",
    "    mlflow.log_metric(\"precision\", prec)\n",
    "    \n",
    "    # Guardar el pipeline completo\n",
    "    #mlflow.sklearn.log_model(pipeline, \"modelo_pipeline\")\n",
    "    model_info = mlflow.sklearn.log_model(\n",
    "        sk_model=pipeline,\n",
    "        artifact_path=\"modelo_pipeline\",\n",
    "        registered_model_name=\"modelo_pipeline\"    \n",
    "    )\n",
    "    print(\" Modelo registrado en MLflow\")\n",
    "    print(f\"\\nModelo registrado - Parámetros: C={C}, max_iter={max_iter}, solver={solver}, penalty={penalty}\")\n",
    "    print(f\"Accuracy: {acc:.4f} | Precision: {prec:.4f}\")\n"
   ]
  },
  {
   "cell_type": "code",
   "execution_count": null,
   "id": "06c9eb27-a3f2-4e14-b2bc-e308fc71514b",
   "metadata": {},
   "outputs": [],
   "source": []
  }
 ],
 "metadata": {
  "kernelspec": {
   "display_name": "Python 3 (ipykernel)",
   "language": "python",
   "name": "python3"
  },
  "language_info": {
   "codemirror_mode": {
    "name": "ipython",
    "version": 3
   },
   "file_extension": ".py",
   "mimetype": "text/x-python",
   "name": "python",
   "nbconvert_exporter": "python",
   "pygments_lexer": "ipython3",
   "version": "3.11.0"
  }
 },
 "nbformat": 4,
 "nbformat_minor": 5
}
